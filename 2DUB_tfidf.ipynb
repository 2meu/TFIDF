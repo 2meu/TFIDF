{
 "cells": [
  {
   "cell_type": "code",
   "execution_count": 94,
   "metadata": {},
   "outputs": [],
   "source": [
    "def get_data(host, user, password, db):\n",
    "\n",
    "    conn = pymysql.connect(host=host, #localhost\n",
    "                            user=user, #user\n",
    "                            password=password,\n",
    "                            db = db, #youtube\n",
    "                            charset='utf8mb4')\n",
    "    cursor = conn.cursor()\n",
    "\n",
    "    # ==== select example ====\n",
    "    sql = \"select caption from caption\"\n",
    "    cursor.execute(sql)\n",
    "\n",
    "    # 데이타 Fetch\n",
    "    captions = cursor.fetchall()\n",
    "    captions = list(captions)\n",
    "    captions = [i[0] for i in captions]\n",
    "    cursor.close()\n",
    "    return captions"
   ]
  },
  {
   "cell_type": "code",
   "execution_count": 95,
   "metadata": {},
   "outputs": [],
   "source": [
    "import re\n",
    "\n",
    "# '[Music, Applause, ...]' <- 전처리 and remove tuple\n",
    "\n",
    "def preprocessing(captions):\n",
    "    clean_captions = []\n",
    "\n",
    "    for caption in captions:\n",
    "        caption = re.sub(\"[^a-zA-Z]\", \" \", str(caption)).strip()\n",
    "        words = caption.lower().split()\n",
    "        clean_caption = ' '.join(words)\n",
    "        clean_captions.append(clean_caption)\n",
    "    return clean_captions\n"
   ]
  },
  {
   "cell_type": "code",
   "execution_count": 112,
   "metadata": {},
   "outputs": [],
   "source": [
    "from sklearn.metrics.pairwise import cosine_similarity\n",
    "from operator import itemgetter\n",
    "\n",
    "# extract top 5\n",
    "\n",
    "def extract_top5(captions, clean_captions, tfidf_matrix):\n",
    "    checked_similarity = []\n",
    "\n",
    "    for i in range(len(clean_captions)):\n",
    "        # 10th sentence\n",
    "        if cosine_similarity(tfidf_matrix[10], tfidf_matrix[i]) != 0:\n",
    "\n",
    "            checked_similarity.append([captions[i], cosine_similarity(tfidf_matrix[10], tfidf_matrix[i])])\n",
    "\n",
    "    checked_similarity = sorted(checked_similarity, key=itemgetter(1), reverse=True)\n",
    "    top_5 = checked_similarity[1:6]\n",
    "    return top_5"
   ]
  },
  {
   "cell_type": "code",
   "execution_count": null,
   "metadata": {},
   "outputs": [],
   "source": []
  }
 ],
 "metadata": {
  "kernelspec": {
   "display_name": "Python 3",
   "language": "python",
   "name": "python3"
  },
  "language_info": {
   "codemirror_mode": {
    "name": "ipython",
    "version": 3
   },
   "file_extension": ".py",
   "mimetype": "text/x-python",
   "name": "python",
   "nbconvert_exporter": "python",
   "pygments_lexer": "ipython3",
   "version": "3.6.7"
  }
 },
 "nbformat": 4,
 "nbformat_minor": 2
}
